{
 "cells": [
  {
   "cell_type": "code",
   "execution_count": 13,
   "id": "c54891b3-e85b-49f2-bff0-b6e55952421f",
   "metadata": {},
   "outputs": [],
   "source": [
    "import pandas as pd\n",
    "import numpy as np\n",
    "import matplotlib.pyplot as plt"
   ]
  },
  {
   "cell_type": "code",
   "execution_count": 350,
   "id": "f0763239-f320-4f9d-b887-196df12ec2f2",
   "metadata": {},
   "outputs": [],
   "source": [
    "data = pd.read_csv(\"circle.csv\", names=[\"x1\", \"x2\", \"y\"])"
   ]
  },
  {
   "cell_type": "code",
   "execution_count": 351,
   "id": "a63eb4a7-2940-4ac7-9ebd-0f766eb92dbb",
   "metadata": {},
   "outputs": [
    {
     "data": {
      "text/html": [
       "<div>\n",
       "<style scoped>\n",
       "    .dataframe tbody tr th:only-of-type {\n",
       "        vertical-align: middle;\n",
       "    }\n",
       "\n",
       "    .dataframe tbody tr th {\n",
       "        vertical-align: top;\n",
       "    }\n",
       "\n",
       "    .dataframe thead th {\n",
       "        text-align: right;\n",
       "    }\n",
       "</style>\n",
       "<table border=\"1\" class=\"dataframe\">\n",
       "  <thead>\n",
       "    <tr style=\"text-align: right;\">\n",
       "      <th></th>\n",
       "      <th>x1</th>\n",
       "      <th>x2</th>\n",
       "      <th>y</th>\n",
       "    </tr>\n",
       "  </thead>\n",
       "  <tbody>\n",
       "    <tr>\n",
       "      <th>0</th>\n",
       "      <td>-0.971935</td>\n",
       "      <td>0.846927</td>\n",
       "      <td>0</td>\n",
       "    </tr>\n",
       "    <tr>\n",
       "      <th>1</th>\n",
       "      <td>-0.552995</td>\n",
       "      <td>-0.576830</td>\n",
       "      <td>0</td>\n",
       "    </tr>\n",
       "    <tr>\n",
       "      <th>2</th>\n",
       "      <td>-0.094904</td>\n",
       "      <td>-0.298862</td>\n",
       "      <td>1</td>\n",
       "    </tr>\n",
       "    <tr>\n",
       "      <th>3</th>\n",
       "      <td>-0.809564</td>\n",
       "      <td>0.856891</td>\n",
       "      <td>0</td>\n",
       "    </tr>\n",
       "    <tr>\n",
       "      <th>4</th>\n",
       "      <td>0.399009</td>\n",
       "      <td>0.690462</td>\n",
       "      <td>0</td>\n",
       "    </tr>\n",
       "    <tr>\n",
       "      <th>...</th>\n",
       "      <td>...</td>\n",
       "      <td>...</td>\n",
       "      <td>...</td>\n",
       "    </tr>\n",
       "    <tr>\n",
       "      <th>95</th>\n",
       "      <td>0.989539</td>\n",
       "      <td>0.461170</td>\n",
       "      <td>0</td>\n",
       "    </tr>\n",
       "    <tr>\n",
       "      <th>96</th>\n",
       "      <td>-0.740243</td>\n",
       "      <td>0.926098</td>\n",
       "      <td>0</td>\n",
       "    </tr>\n",
       "    <tr>\n",
       "      <th>97</th>\n",
       "      <td>0.702734</td>\n",
       "      <td>0.087081</td>\n",
       "      <td>0</td>\n",
       "    </tr>\n",
       "    <tr>\n",
       "      <th>98</th>\n",
       "      <td>-0.024213</td>\n",
       "      <td>0.901742</td>\n",
       "      <td>0</td>\n",
       "    </tr>\n",
       "    <tr>\n",
       "      <th>99</th>\n",
       "      <td>-0.678564</td>\n",
       "      <td>0.607293</td>\n",
       "      <td>0</td>\n",
       "    </tr>\n",
       "  </tbody>\n",
       "</table>\n",
       "<p>100 rows × 3 columns</p>\n",
       "</div>"
      ],
      "text/plain": [
       "          x1        x2  y\n",
       "0  -0.971935  0.846927  0\n",
       "1  -0.552995 -0.576830  0\n",
       "2  -0.094904 -0.298862  1\n",
       "3  -0.809564  0.856891  0\n",
       "4   0.399009  0.690462  0\n",
       "..       ...       ... ..\n",
       "95  0.989539  0.461170  0\n",
       "96 -0.740243  0.926098  0\n",
       "97  0.702734  0.087081  0\n",
       "98 -0.024213  0.901742  0\n",
       "99 -0.678564  0.607293  0\n",
       "\n",
       "[100 rows x 3 columns]"
      ]
     },
     "execution_count": 351,
     "metadata": {},
     "output_type": "execute_result"
    }
   ],
   "source": [
    "data"
   ]
  },
  {
   "cell_type": "code",
   "execution_count": 352,
   "id": "59df5337-831a-49ec-acc5-b15e7adef87b",
   "metadata": {},
   "outputs": [
    {
     "data": {
      "text/plain": [
       "<matplotlib.collections.PathCollection at 0x7f6f44a8c760>"
      ]
     },
     "execution_count": 352,
     "metadata": {},
     "output_type": "execute_result"
    },
    {
     "data": {
      "image/png": "[encoded data removed]",
      "text/plain": [
       "<Figure size 300x300 with 1 Axes>"
      ]
     },
     "metadata": {},
     "output_type": "display_data"
    }
   ],
   "source": [
    "ceros= np.where(data['y']==0)[0]\n",
    "unos=np.where(data['y']==1)[0]\n",
    "plt.figure(figsize = [3,3])\n",
    "plt.scatter(data['x1'][ceros], data['x2'][ceros], color = 'b', s=20)\n",
    "plt.scatter(data['x1'][unos], data['x2'][unos], color = 'g', s=20)\n"
   ]
  },
  {
   "cell_type": "markdown",
   "id": "f0842419-276d-4275-bd22-64875faceb9f",
   "metadata": {},
   "source": [
    "# **APARTADO 1**\n",
    "### **Generalizar la función de backpropagation para que contemple la inclusión de una capa oculta. Aplicar la función al ejemplo de la clasificación circular y validar los resultados en el dominio x:[-1, 1], y:[-1, 1]**"
   ]
  },
  {
   "cell_type": "markdown",
   "id": "c4dd9654-d6ed-4536-8353-53eea0dc674b",
   "metadata": {},
   "source": [
    "### **Preparacion de los datos**"
   ]
  },
  {
   "cell_type": "code",
   "execution_count": 353,
   "id": "62bb6ea7-38fa-428a-babe-1e064062c632",
   "metadata": {},
   "outputs": [],
   "source": [
    "x = data[['x1', 'x2']].T.values\n",
    "y = data['y'].values.reshape(1, len(data['y'].values))\n"
   ]
  },
  {
   "cell_type": "code",
   "execution_count": 354,
   "id": "99ef801f-11af-4eb5-8785-971492d82d2e",
   "metadata": {},
   "outputs": [],
   "source": [
    "def sigmoid(x):\n",
    "    return 1 / (1 + np.exp(-x))\n",
    "def d_sigmoid(x):\n",
    "    return sigmoid(x)*(1-sigmoid(x))\n",
    "\n",
    "def mse(x,y):\n",
    "    return np.mean((x-y)**2)\n",
    "\n",
    "def backprop_mlp(x,y,h=5,epochs=1500,eta=0.1):\n",
    "    \n",
    "    np.random.seed(5)\n",
    "    w1=np.random.uniform(low=-1,high=1,size=[x.shape[0],h])\n",
    "    w2=np.random.uniform(low=-1,high=1,size=[h,y.shape[0]])\n",
    "    \n",
    "    bias1=np.random.uniform(low=0,high=1,size=(h,1))\n",
    "    bias2=np.random.uniform(low=0,high=1,size=(1,y.shape[0]))\n",
    "    \n",
    "    err_batch=[]\n",
    "    acc_batch=[]\n",
    "    \n",
    "    for i in range(epochs):\n",
    "        A_value= np.dot(w1.T,x) + bias1   # (5,2) dot (2,100) + (5,1) = (5,100)\n",
    "        a_value= sigmoid(A_value)  #(5,100)  \n",
    "        B_value= np.dot(w2.T,a_value) + bias2  # (1,5) dot (5,100)  + (1,1) = (1,100)\n",
    "        b_value= sigmoid(B_value) #(1,100)\n",
    "        \n",
    "        err_batch.append(mse(y,b_value)) \n",
    "        acc_batch.append(100*np.sum( y == b_value.round(0))/np.shape(y)[1])\n",
    "        \n",
    "        Error= b_value - y #(1,100)\n",
    "        delta= Error * d_sigmoid(B_value) #(1,100)\n",
    "        dE_dW= np.dot(a_value,delta.T) #(5,100) dot (100,1)  = (5,1)\n",
    "        dE_dS= np.sum(delta,axis=1,keepdims=True)\n",
    "\n",
    "        \n",
    "        dE_dT= np.dot(w2,delta)  #(5,1) dot (1,100) = (5,100)\n",
    "        delta2= dE_dT *d_sigmoid(A_value) #(5,100)\n",
    "        dE_dV= np.dot(x,delta2.T) #(2,100) dot (100,5) = (2,5)\n",
    "        dE_dT= np.sum(delta2,axis=1,keepdims=True) # (5,1)\n",
    "\n",
    "        \n",
    "        w1 = w1 - eta * dE_dV # (2,5) - (1,1) * (2,5)\n",
    "        w2 = w2 - eta * dE_dW # (5,1) - (1,1) * (5,1)\n",
    "\n",
    "        bias1 = bias1 - eta *dE_dT  #(5,1) - (1,1) * (5,1) =(5,1)\n",
    "        bias2 = bias2 - eta *dE_dS  # (1,1) -(1,1) * (1,1) = (1,1)\n",
    "        print('Error:' + str(mse(b_value,y)) ,end='\\r', flush=True)\n",
    "        \n",
    "\n",
    "    return w1, w2, bias1, bias2, b_value,err_batch, acc_batch"
   ]
  },
  {
   "cell_type": "code",
   "execution_count": 355,
   "id": "aaf1d9a4-e6ed-47c3-9575-09f3ec139bbf",
   "metadata": {
    "tags": []
   },
   "outputs": [
    {
     "name": "stdout",
     "output_type": "stream",
     "text": [
      "Error:0.0047494553101226636\r"
     ]
    }
   ],
   "source": [
    "w1_trained, w2_trained, bias1_trained, bias2_trained ,b_value, err_batch, acc_batch= backprop_mlp(x, y)"
   ]
  },
  {
   "cell_type": "code",
   "execution_count": 356,
   "id": "1e03366e-4772-4727-9212-af01d3b571b6",
   "metadata": {},
   "outputs": [],
   "source": [
    "X1, X2 = np.meshgrid(np.arange(-1,1,0.02),np.arange(-1,1,0.02))\n",
    "test_output= np.ones_like(X1)*np.nan\n"
   ]
  },
  {
   "cell_type": "code",
   "execution_count": 357,
   "id": "f9e3f4c7-8ffb-41ef-9d16-10c64412b344",
   "metadata": {
    "tags": []
   },
   "outputs": [],
   "source": [
    "for r in np.arange(np.shape(test_output)[0]):\n",
    "    for c in np.arange(np.shape(test_output)[1]):\n",
    "        x=np.array([X1[r,c],X2[r,c]]).reshape(2,1)\n",
    "        a=sigmoid(np.dot(w1_trained.T,x)+bias1_trained)\n",
    "        test_output[r,c] = sigmoid(np.dot(w2_trained.T,a)+bias2_trained) "
   ]
  },
  {
   "cell_type": "code",
   "execution_count": 358,
   "id": "3d05051e-c9c2-4bce-97f9-2f664a67b7ab",
   "metadata": {},
   "outputs": [
    {
     "data": {
      "image/png": "[encoded data removed]",
      "text/plain": [
       "<Figure size 300x300 with 2 Axes>"
      ]
     },
     "metadata": {},
     "output_type": "display_data"
    }
   ],
   "source": [
    "plt.figure(figsize=[3,3])\n",
    "p = plt.pcolormesh(X1,X2,test_output,cmap=\"seismic\",vmin=0,vmax=1)\n",
    "plt.scatter(data[\"x1\"][ceros],data[\"x2\"][ceros],color=\"yellow\",s=20)\n",
    "plt.scatter(data[\"x1\"][unos],data[\"x2\"][unos],color=\"white\",s=20)\n",
    "plt.colorbar(p)\n",
    "plt.show()"
   ]
  },
  {
   "cell_type": "markdown",
   "id": "85481633-8d5d-4dce-b6b0-3e0f0c5f98b8",
   "metadata": {},
   "source": [
    "# **Apartado 2**\n",
    "\n",
    "### **Si se fija el número máximo de épocas en 1000. ¿Qué número de neuronas ocultas y qué valor de la tasa de aprendizaje (eta) es óptimo para este problema? (basta una solución aproximada).**"
   ]
  },
  {
   "cell_type": "code",
   "execution_count": 359,
   "id": "6881c7f0-978d-45b5-b6d3-1901181f87f9",
   "metadata": {},
   "outputs": [],
   "source": [
    "x = data[['x1', 'x2']].T.values\n",
    "y = data['y'].values.reshape(1, len(data['y'].values))\n"
   ]
  },
  {
   "cell_type": "code",
   "execution_count": 360,
   "id": "94633d50-3d59-4217-8495-f6a0deb58582",
   "metadata": {},
   "outputs": [
    {
     "name": "stdout",
     "output_type": "stream",
     "text": [
      "Error:0.2938042399257783613\r"
     ]
    }
   ],
   "source": [
    "eta=[0.05,0.01,0.1,0.3,0.5,1]\n",
    "h=[5,10,15,20,25,30]\n",
    "metricas = [None]*36\n",
    "errores= [None]*36\n",
    "accuracy = [None]*36\n",
    "\n",
    "t=0\n",
    "for i in eta:\n",
    "    for j in h: \n",
    "        w1_trained, w2_trained, bias1_trained, bias2_trained ,b_value, err_batch, acc_batch= backprop_mlp(x=x, y=y,h=j,epochs=1000,eta=i,)\n",
    "        metricas[t] = \"eta: \" + str(i) + \", h: \" + str(j)\n",
    "        errores[t]= err_batch[-1]\n",
    "        accuracy[t]= acc_batch[-1]\n",
    "        t+=1\n",
    "        \n"
   ]
  },
  {
   "cell_type": "code",
   "execution_count": 361,
   "id": "fb964113-f94e-4f47-b3f0-2caa74320632",
   "metadata": {},
   "outputs": [
    {
     "name": "stdout",
     "output_type": "stream",
     "text": [
      "Obtenemos como valores optimos: metricas-> eta: 0.3, h: 5  con un error: 0.002645773335387861  y un accuracy: 100.0\n"
     ]
    }
   ],
   "source": [
    "print(\"Obtenemos como valores optimos: metricas->\",metricas[errores.index(min(errores))],\" con un error:\",errores[errores.index(min(errores))],\" y un accuracy:\", accuracy[errores.index(min(errores))])\n"
   ]
  },
  {
   "cell_type": "markdown",
   "id": "c001734a-3a88-474d-ab92-508e59e993e5",
   "metadata": {},
   "source": [
    "# **APARTADO 3**\n",
    "\n",
    "### **Incluir un término de inercia en el método de *backpropagation***"
   ]
  },
  {
   "cell_type": "code",
   "execution_count": 362,
   "id": "3731ba26-6cf5-4539-8abe-e11828ca25b4",
   "metadata": {},
   "outputs": [],
   "source": [
    "def sigmoid(x):\n",
    "    return 1 / (1 + np.exp(-x))\n",
    "def d_sigmoid(x):\n",
    "    return sigmoid(x)*(1-sigmoid(x))\n",
    "\n",
    "def mse(x,y):\n",
    "    return np.mean((x-y)**2)\n",
    "\n",
    "def backprop_mlp(x,y,h=5,epochs=1500,eta=0.1,alpha=0.04):\n",
    "    \n",
    "    np.random.seed(5)\n",
    "    w1=np.random.uniform(low=-1,high=1,size=[x.shape[0],h])\n",
    "    w2=np.random.uniform(low=-1,high=1,size=[h,y.shape[0]])\n",
    "    \n",
    "    bias1=np.random.uniform(low=0,high=1,size=(h,1))\n",
    "    bias2=np.random.uniform(low=0,high=1,size=(1,y.shape[0]))\n",
    "    \n",
    "    err_batch=[]\n",
    "    acc_batch=[]\n",
    "    \n",
    "    dE_dV_inertia= -eta * np.random.uniform(low=0,high=0,size=(2,5))\n",
    "    dE_dT_inertia= -eta * np.random.uniform(low=0,high=0,size=(5,1))\n",
    "    dE_dW_inertia= -eta * np.random.uniform(low=0,high=0,size=(5,1))\n",
    "    dE_dS_inertia= -eta * np.random.uniform(low=0,high=0,size=(1,1))\n",
    "    \n",
    "    for i in range(epochs):\n",
    "        A_value= np.dot(w1.T,x) + bias1   # (5,2) dot (2,100) + (5,1) = (5,100)\n",
    "        a_value= sigmoid(A_value)  #(5,100)  \n",
    "        B_value= np.dot(w2.T,a_value) + bias2  # (1,5) dot (5,100)  + (1,1) = (1,100)\n",
    "        b_value= sigmoid(B_value) #(1,100)\n",
    "        \n",
    "        err_batch.append(mse(y,b_value)) \n",
    "        acc_batch.append(100*np.sum( y == b_value.round(0))/np.shape(y)[1])\n",
    "        \n",
    "        Error= b_value - y #(1,100)\n",
    "        delta= Error * d_sigmoid(B_value) #(1,100)\n",
    "        dE_dW= np.dot(a_value,delta.T) #(5,100) dot (100,1)  = (5,1)\n",
    "        dE_dS= np.sum(delta,axis=1,keepdims=True)\n",
    "\n",
    "        \n",
    "        dE_dT= np.dot(w2,delta)  #(5,1) dot (1,100) = (5,100)\n",
    "        delta2= dE_dT *d_sigmoid(A_value) #(5,100)\n",
    "        dE_dV= np.dot(x,delta2.T) #(2,100) dot (100,5) = (2,5)\n",
    "        dE_dT= np.sum(delta2,axis=1,keepdims=True) # (5,1)\n",
    "\n",
    "        \n",
    "        w1 = w1 - eta * dE_dV + alpha* dE_dV_inertia # (2,5) - (1,1) * (2,5)\n",
    "        w2 = w2 - eta * dE_dW + alpha* dE_dW_inertia# (5,1) - (1,1) * (5,1)\n",
    "\n",
    "        bias1 = bias1 - eta *dE_dT + alpha *  dE_dT_inertia #(5,1) - (1,1) * (5,1) =(5,1)\n",
    "        bias2 = bias2 - eta *dE_dS + alpha *  dE_dS_inertia  # (1,1) -(1,1) * (1,1) = (1,1)\n",
    "        \n",
    "        dE_dV_inertia = -eta *dE_dV\n",
    "        dE_dT_inertia = -eta *dE_dT\n",
    "        dE_dW_inertia = -eta *dE_dW\n",
    "        dE_dS_inertia = -eta *dE_dS\n",
    "        \n",
    "        print('Error:' + str(mse(b_value,y)) ,end='\\r', flush=True)\n",
    "\n",
    "    return w1, w2, bias1, bias2, b_value,err_batch, acc_batch"
   ]
  },
  {
   "cell_type": "code",
   "execution_count": 363,
   "id": "1e13d7af-ad38-424f-8db5-b8b0897d2021",
   "metadata": {},
   "outputs": [
    {
     "name": "stdout",
     "output_type": "stream",
     "text": [
      "Error:0.0045605803118838445\r"
     ]
    }
   ],
   "source": [
    "w1_trained, w2_trained, bias1_trained, bias2_trained ,b_value, err_batch, acc_batch= backprop_mlp(x, y)"
   ]
  },
  {
   "cell_type": "markdown",
   "id": "3db6a5df-b5b3-412c-8003-60f2e989aa38",
   "metadata": {},
   "source": [
    "# **APARTADO 4**\n",
    "\n",
    "### **Generalizar a un número arbitrario de capas (recomendación, definir los pesos como una lista de matrices, una para cada capa). Aplicar la función al ejemplo de la espiral y validar los resultados en el dominio x:[-1, 1], y [-1, 1].** "
   ]
  },
  {
   "cell_type": "code",
   "execution_count": 364,
   "id": "9a1bdb65-af19-4a31-94b9-78a6b7361689",
   "metadata": {},
   "outputs": [],
   "source": [
    "data=pd.read_csv(\"spiral.csv\",names=[\"x1\", \"x2\", \"y\"])"
   ]
  },
  {
   "cell_type": "code",
   "execution_count": 365,
   "id": "f16ced6c-905f-43ed-9286-988f73daa3ec",
   "metadata": {},
   "outputs": [
    {
     "data": {
      "text/plain": [
       "<matplotlib.collections.PathCollection at 0x7f6f4495aec0>"
      ]
     },
     "execution_count": 365,
     "metadata": {},
     "output_type": "execute_result"
    },
    {
     "data": {
      "image/png": "[encoded data removed]",
      "text/plain": [
       "<Figure size 300x300 with 1 Axes>"
      ]
     },
     "metadata": {},
     "output_type": "display_data"
    }
   ],
   "source": [
    "ceros= np.where(data['y']==0)[0]\n",
    "unos=np.where(data['y']==1)[0]\n",
    "plt.figure(figsize = [3,3])\n",
    "plt.scatter(data['x1'][ceros], data['x2'][ceros], color = 'b', s=20)\n",
    "plt.scatter(data['x1'][unos], data['x2'][unos], color = 'g', s=20)\n"
   ]
  },
  {
   "cell_type": "code",
   "execution_count": 366,
   "id": "e0521c19-119e-4d7f-ab71-5bf7fc94765a",
   "metadata": {},
   "outputs": [],
   "source": [
    "x = data[['x1', 'x2']].T.values\n",
    "y = data['y'].values.reshape(1, len(data['y'].values))\n"
   ]
  },
  {
   "cell_type": "code",
   "execution_count": 367,
   "id": "a962cb6b-665b-4b93-b4fd-65b1a70e669f",
   "metadata": {},
   "outputs": [],
   "source": [
    "def sigmoid(x):\n",
    "    return 1 / (1 + np.exp(-x))\n",
    "def d_sigmoid(x):\n",
    "    return sigmoid(x)*(1-sigmoid(x))\n",
    "\n",
    "def mse(x,y):\n",
    "    return np.mean((x-y)**2)\n",
    "\n",
    "def backprop_mlp(x,y,capas,epochs=1500,eta=0.1,alpha=0.04):\n",
    "    np.random.seed(6)\n",
    "    err_batch=[]\n",
    "    acc_batch=[]\n",
    "    \n",
    "    weights = [None]* (len(capas)+1)\n",
    "    bias = [None] * (len(capas)+1)\n",
    "    \n",
    "    for i in range(len(capas)):\n",
    "        if i == len(capas):\n",
    "            break\n",
    "        elif i ==len(capas)-1 :\n",
    "            weights[i+1]= np.random.uniform(low=-1,high=1,size=(capas[i],y.shape[0]))\n",
    "        else:\n",
    "            weights[i+1] = np.random.uniform(low=-1,high=1,size=(capas[i],capas[i+1]))\n",
    "    weights[0]= np.random.uniform(low=-1,high=1,size=(x.shape[0],capas[0]))\n",
    "    \n",
    "    for n in range(len(capas)):\n",
    "        bias[n]= np.random.uniform(low=-1,high=1,size=(capas[n],1))\n",
    "    bias[-1] = np.random.uniform(low=-1,high=1,size=(y.shape[0],1))\n",
    "    \n",
    "    for j in range(epochs):\n",
    "        Y_values= [None]*(len(bias))\n",
    "        y_values=[None]*(len(bias))\n",
    "        for p in range(0,len(Y_values)):\n",
    "            if p == 0:\n",
    "                Y_values[p]= np.dot(weights[p].T,x) + bias [p]\n",
    "                y_values[p] = sigmoid(Y_values[p])\n",
    "\n",
    "            else:\n",
    "                Y_values[p] = np.dot(weights[p].T,y_values[p-1]) + bias[p]\n",
    "                y_values[p] = sigmoid(Y_values[p])\n",
    "                \n",
    "        err_batch.append(mse(y,y_values[-1]))\n",
    "        \n",
    "        d_weights=[None]* len(Y_values)\n",
    "        d_bias=[None]* len(Y_values)\n",
    "        \n",
    "        for q in range(0,len(Y_values)):\n",
    "            if q == 0:\n",
    "                Error=y_values[-(1+q)] - y\n",
    "                d = Error * d_sigmoid(Y_values[-(1+q)])\n",
    "                d_weights[-(1+q)] = np.dot(y_values[-(2+q)],d.T)\n",
    "                d_bias[-(1+q)] = np.sum(d,axis=1,keepdims=True)              \n",
    "            \n",
    "            elif q== (len(Y_values)-1):\n",
    "                d_bias[-(1+q)] = np.dot(weights[-q],d)\n",
    "                d = d_bias[-(1+q)] * d_sigmoid(Y_values[-(1+q)])\n",
    "                d_weights[0]= np.dot(x,d.T)\n",
    "                d_bias[0]= np.sum(d, axis=1, keepdims=True)\n",
    "                \n",
    "            else:\n",
    "                d_bias[-(1+q)] = np.dot(weights[-q],d)\n",
    "                d = d_bias[-(q+1)] * d_sigmoid(Y_values[-(1+q)])\n",
    "                d_weights[-(q+1)] = np.dot(y_values[-(2+q)],d.T)\n",
    "                d_bias[-(1+q)] = np.sum(d,axis=1,keepdims=True)\n",
    "                                                        \n",
    "                \n",
    "\n",
    "\n",
    "        for f in range(0,len(d_weights)):\n",
    "            weights[f] = weights [f] - eta * d_weights[f]\n",
    "            bias[f] = bias[f] - eta * d_bias[f]\n",
    "        \n",
    "        print('Error:' + str(mse(y_values[-1],y)) + \"acc:\" + str((100*np.sum( y == y_values[-1].round(0))/np.shape(y)[1])),end='\\r', flush=True)\n",
    "                \n",
    "    return weights, bias, y_values\n",
    "        "
   ]
  },
  {
   "cell_type": "code",
   "execution_count": 368,
   "id": "9e9b2ce6-c29d-40fa-aad3-0e30f64384eb",
   "metadata": {},
   "outputs": [],
   "source": [
    "layers=[15,15,15]"
   ]
  },
  {
   "cell_type": "code",
   "execution_count": 369,
   "id": "a5840745-8b71-4b82-8dde-9049be33cd43",
   "metadata": {
    "tags": []
   },
   "outputs": [
    {
     "name": "stdout",
     "output_type": "stream",
     "text": [
      "Error:0.0020874317434387067acc:99.85\r"
     ]
    }
   ],
   "source": [
    "weights, bias, y_values = backprop_mlp(x,y,capas=layers,epochs=15000,eta=0.001)"
   ]
  },
  {
   "cell_type": "code",
   "execution_count": 372,
   "id": "e27ce62f-c684-47b0-8aa8-588cfd47de82",
   "metadata": {},
   "outputs": [],
   "source": [
    "X1, X2 = np.meshgrid(np.arange(-1,1,0.02),np.arange(-1,1,0.02))\n",
    "test_output= np.ones_like(X1)*np.nan"
   ]
  },
  {
   "cell_type": "code",
   "execution_count": 373,
   "id": "5a01a2a7-6ad9-4ce4-a9a8-327f14e00416",
   "metadata": {},
   "outputs": [],
   "source": [
    "for r in np.arange(np.shape(test_output)[0]):\n",
    "    for c in np.arange(np.shape(test_output)[1]):\n",
    "        x=np.array([X1[r,c],X2[r,c]]).reshape(2,1)\n",
    "        a=sigmoid(np.dot(weights[0].T,x)+ bias[0])\n",
    "        b=sigmoid(np.dot(weights[1].T,a)+ bias[1])\n",
    "        cc=sigmoid(np.dot(weights[2].T,b)+ bias[2])\n",
    "        test_output[r,c]=sigmoid(np.dot(weights[3].T,cc)+ bias[3])"
   ]
  },
  {
   "cell_type": "code",
   "execution_count": 374,
   "id": "e0b93c39-6608-4b7c-8a7e-2fa5a5fc0a14",
   "metadata": {},
   "outputs": [
    {
     "data": {
      "image/png": "[encoded data removed]",
      "text/plain": [
       "<Figure size 300x300 with 2 Axes>"
      ]
     },
     "metadata": {},
     "output_type": "display_data"
    }
   ],
   "source": [
    "plt.figure(figsize=[3,3])\n",
    "p = plt.pcolormesh(X1,X2,test_output,cmap=\"seismic\",vmin=0,vmax=1)\n",
    "plt.scatter(data[\"x1\"][ceros],data[\"x2\"][ceros],color=\"yellow\",s=20)\n",
    "plt.scatter(data[\"x1\"][unos],data[\"x2\"][unos],color=\"white\",s=20)\n",
    "plt.colorbar(p)\n",
    "plt.show()"
   ]
  }
 ],
 "metadata": {
  "kernelspec": {
   "display_name": "Python 3 (ipykernel)",
   "language": "python",
   "name": "python3"
  },
  "language_info": {
   "codemirror_mode": {
    "name": "ipython",
    "version": 3
   },
   "file_extension": ".py",
   "mimetype": "text/x-python",
   "name": "python",
   "nbconvert_exporter": "python",
   "pygments_lexer": "ipython3",
   "version": "3.10.6"
  }
 },
 "nbformat": 4,
 "nbformat_minor": 5
}
